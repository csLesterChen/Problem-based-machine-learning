{
 "cells": [
  {
   "cell_type": "code",
   "execution_count": 1,
   "metadata": {},
   "outputs": [
    {
     "name": "stderr",
     "output_type": "stream",
     "text": [
      "Using TensorFlow backend.\n"
     ]
    }
   ],
   "source": [
    "import pandas as pd\n",
    "import matplotlib.pyplot as plt\n",
    "import numpy as np\n",
    "import seaborn as sns\n",
    "from keras.models import Sequential\n",
    "from keras.datasets import mnist\n",
    "from keras.layers import Dense, Dropout, Activation\n",
    "import statistics"
   ]
  },
  {
   "cell_type": "code",
   "execution_count": 2,
   "metadata": {},
   "outputs": [],
   "source": [
    "#讀資料\n",
    "df_train = pd.read_csv('train.csv')\n",
    "df_test = pd.read_csv('test.csv')\n",
    "df_test_answer = pd.read_csv('gender_submission.csv')"
   ]
  },
  {
   "cell_type": "code",
   "execution_count": 3,
   "metadata": {},
   "outputs": [],
   "source": [
    "# drop 掉關係較小的attribute\n",
    "df_train.drop('PassengerId', axis = 1, inplace=True)\n",
    "df_train.drop('Name', axis = 1, inplace=True)\n",
    "df_train.drop('Ticket', axis = 1, inplace=True)\n",
    "df_train.drop('Cabin', axis = 1, inplace=True)\n",
    "df_train.drop('Embarked', axis = 1, inplace=True)\n",
    "#df_train.drop('Parch', axis = 1, inplace=True)\n",
    "#df_train.drop('SibSp', axis = 1, inplace=True)\n",
    "\n",
    "df_test.drop('PassengerId', axis = 1, inplace=True)\n",
    "df_test.drop('Name', axis = 1, inplace=True)\n",
    "df_test.drop('Ticket', axis = 1, inplace=True)\n",
    "df_test.drop('Cabin', axis = 1, inplace=True)\n",
    "df_test.drop('Embarked', axis = 1, inplace=True)\n",
    "#df_test.drop('Parch', axis = 1, inplace=True)\n",
    "#df_test.drop('SibSp', axis = 1, inplace=True)"
   ]
  },
  {
   "cell_type": "markdown",
   "metadata": {},
   "source": [
    "## 做資料Normalize和賦值"
   ]
  },
  {
   "cell_type": "code",
   "execution_count": 4,
   "metadata": {},
   "outputs": [],
   "source": [
    "age1 = df_train['Age']\n",
    "age2 = df_test['Age']\n",
    "avgage1 = age1.sum(axis = 0, skipna = True) /len(age1)\n",
    "avgage2 = age2.sum(axis = 0, skipna = True) /len(age2)\n",
    "#把原本是NAN的賦予平均值\n",
    "df_train['Age'].fillna(avgage1, inplace = True)\n",
    "df_test['Age'].fillna(avgage2, inplace = True)\n",
    "df_train['Age'] = df_train['Age']/avgage1\n",
    "df_test['Age'] =df_test['Age']/avgage2\n",
    "\n",
    "\n",
    "fare1 = df_train['Fare']\n",
    "fare2 = df_test['Fare']\n",
    "avgfare1 = fare1.sum(axis = 0, skipna = True) /len(fare1)\n",
    "avgfare2 = fare2.sum(axis = 0, skipna = True) /len(fare2)\n",
    "df_train['Fare'] = df_train['Fare']/avgfare1\n",
    "df_test['Fare'] =df_test['Fare']/avgfare2\n",
    "\n",
    "\n",
    "sex_map = {'male' : 0, 'female' :1}\n",
    "df_train['Sex'] = df_train['Sex'].map(sex_map)\n",
    "df_test['Sex'] = df_test['Sex'].map(sex_map)\n",
    "\n",
    "\n",
    "# df_train.fillna('C')\n",
    "# df_test.fillna('C')\n",
    "# embark = {'S':0,'C':1,'Q':2}\n",
    "# df_train['Embarked'] = df_train['Embarked'].map(embark)\n",
    "# df_test['Embarked'] = df_test['Embarked'].map(embark)"
   ]
  },
  {
   "cell_type": "code",
   "execution_count": 5,
   "metadata": {},
   "outputs": [],
   "source": [
    "train_y = df_train['Survived'].values\n",
    "test_y = df_test_answer['Survived'].values\n",
    "\n",
    "df_train = df_train.drop('Survived', 1)"
   ]
  },
  {
   "cell_type": "code",
   "execution_count": 6,
   "metadata": {},
   "outputs": [
    {
     "data": {
      "text/html": [
       "<div>\n",
       "<style scoped>\n",
       "    .dataframe tbody tr th:only-of-type {\n",
       "        vertical-align: middle;\n",
       "    }\n",
       "\n",
       "    .dataframe tbody tr th {\n",
       "        vertical-align: top;\n",
       "    }\n",
       "\n",
       "    .dataframe thead th {\n",
       "        text-align: right;\n",
       "    }\n",
       "</style>\n",
       "<table border=\"1\" class=\"dataframe\">\n",
       "  <thead>\n",
       "    <tr style=\"text-align: right;\">\n",
       "      <th></th>\n",
       "      <th>Pclass</th>\n",
       "      <th>Sex</th>\n",
       "      <th>Age</th>\n",
       "      <th>SibSp</th>\n",
       "      <th>Parch</th>\n",
       "      <th>Fare</th>\n",
       "    </tr>\n",
       "  </thead>\n",
       "  <tbody>\n",
       "    <tr>\n",
       "      <th>0</th>\n",
       "      <td>3</td>\n",
       "      <td>0</td>\n",
       "      <td>0.924397</td>\n",
       "      <td>1</td>\n",
       "      <td>0</td>\n",
       "      <td>0.225126</td>\n",
       "    </tr>\n",
       "    <tr>\n",
       "      <th>1</th>\n",
       "      <td>1</td>\n",
       "      <td>1</td>\n",
       "      <td>1.596686</td>\n",
       "      <td>1</td>\n",
       "      <td>0</td>\n",
       "      <td>2.213478</td>\n",
       "    </tr>\n",
       "    <tr>\n",
       "      <th>2</th>\n",
       "      <td>3</td>\n",
       "      <td>1</td>\n",
       "      <td>1.092469</td>\n",
       "      <td>0</td>\n",
       "      <td>0</td>\n",
       "      <td>0.246086</td>\n",
       "    </tr>\n",
       "    <tr>\n",
       "      <th>3</th>\n",
       "      <td>1</td>\n",
       "      <td>1</td>\n",
       "      <td>1.470632</td>\n",
       "      <td>1</td>\n",
       "      <td>0</td>\n",
       "      <td>1.648853</td>\n",
       "    </tr>\n",
       "    <tr>\n",
       "      <th>4</th>\n",
       "      <td>3</td>\n",
       "      <td>0</td>\n",
       "      <td>1.470632</td>\n",
       "      <td>0</td>\n",
       "      <td>0</td>\n",
       "      <td>0.249967</td>\n",
       "    </tr>\n",
       "    <tr>\n",
       "      <th>5</th>\n",
       "      <td>3</td>\n",
       "      <td>0</td>\n",
       "      <td>1.000000</td>\n",
       "      <td>0</td>\n",
       "      <td>0</td>\n",
       "      <td>0.262646</td>\n",
       "    </tr>\n",
       "    <tr>\n",
       "      <th>6</th>\n",
       "      <td>1</td>\n",
       "      <td>0</td>\n",
       "      <td>2.268975</td>\n",
       "      <td>0</td>\n",
       "      <td>0</td>\n",
       "      <td>1.610426</td>\n",
       "    </tr>\n",
       "    <tr>\n",
       "      <th>7</th>\n",
       "      <td>3</td>\n",
       "      <td>0</td>\n",
       "      <td>0.084036</td>\n",
       "      <td>3</td>\n",
       "      <td>1</td>\n",
       "      <td>0.654418</td>\n",
       "    </tr>\n",
       "    <tr>\n",
       "      <th>8</th>\n",
       "      <td>3</td>\n",
       "      <td>1</td>\n",
       "      <td>1.134487</td>\n",
       "      <td>0</td>\n",
       "      <td>2</td>\n",
       "      <td>0.345709</td>\n",
       "    </tr>\n",
       "    <tr>\n",
       "      <th>9</th>\n",
       "      <td>2</td>\n",
       "      <td>1</td>\n",
       "      <td>0.588253</td>\n",
       "      <td>1</td>\n",
       "      <td>0</td>\n",
       "      <td>0.933754</td>\n",
       "    </tr>\n",
       "  </tbody>\n",
       "</table>\n",
       "</div>"
      ],
      "text/plain": [
       "   Pclass  Sex       Age  SibSp  Parch      Fare\n",
       "0       3    0  0.924397      1      0  0.225126\n",
       "1       1    1  1.596686      1      0  2.213478\n",
       "2       3    1  1.092469      0      0  0.246086\n",
       "3       1    1  1.470632      1      0  1.648853\n",
       "4       3    0  1.470632      0      0  0.249967\n",
       "5       3    0  1.000000      0      0  0.262646\n",
       "6       1    0  2.268975      0      0  1.610426\n",
       "7       3    0  0.084036      3      1  0.654418\n",
       "8       3    1  1.134487      0      2  0.345709\n",
       "9       2    1  0.588253      1      0  0.933754"
      ]
     },
     "execution_count": 6,
     "metadata": {},
     "output_type": "execute_result"
    }
   ],
   "source": [
    "df_train.head(10)"
   ]
  },
  {
   "cell_type": "markdown",
   "metadata": {},
   "source": [
    "# Deep Neural Network\n",
    "1. 15 layers\n",
    "2. 100 units\n",
    "3. dropout rate = 0.3"
   ]
  },
  {
   "cell_type": "code",
   "execution_count": 7,
   "metadata": {},
   "outputs": [
    {
     "name": "stdout",
     "output_type": "stream",
     "text": [
      "891/891 [==============================] - 0s 104us/step\n",
      "418/418 [==============================] - 0s 98us/step\n",
      "training data = 81.03255%\n",
      "testing data = 96.88995%\n",
      "81.03254778617962 %\n",
      "96.88995215311004 %\n"
     ]
    }
   ],
   "source": [
    "model = Sequential()\n",
    "model.add(Dense(units=100, input_dim=6, kernel_initializer='normal', activation='relu'))\n",
    "model.add(Dropout(0.3))\n",
    "for i in range(15):\n",
    "    model.add(Dropout(0.3))\n",
    "    model.add(Dense(units=100,kernel_initializer='normal', activation='relu'))\n",
    "    \n",
    "model.add(Dense(units=1, kernel_initializer='normal', activation='sigmoid'))\n",
    "\n",
    "#編譯: 選擇損失函數、優化方法及成效衡量方式\\n\",\n",
    "model.compile(loss='binary_crossentropy', optimizer='adam', metrics=['accuracy'])\n",
    "\n",
    "training = []\n",
    "testing = []\n",
    "for i in range(1):\n",
    "    train_history = model.fit(x=df_train, y=train_y, verbose=0, validation_split=0.2, epochs=50, batch_size=64)\n",
    "\n",
    "    train_result = model.evaluate(df_train, train_y)\n",
    "    test_result = model.evaluate(df_test, test_y)#test our model\n",
    "\n",
    "    #scores[0]是loss、scores[1]是accuracy\\n\",\n",
    "    print(\"training data = {:2.5f}%\".format(train_result[1]*100.0))\n",
    "    print(\"testing data = {:2.5f}%\".format(test_result[1]*100.0))\n",
    "    \n",
    "    training.append(train_result[1])\n",
    "    testing.append(test_result[1])\n",
    "\n",
    "print(statistics.mean(training)*100,'%')\n",
    "print(statistics.mean(testing)*100,'%')"
   ]
  },
  {
   "cell_type": "code",
   "execution_count": 8,
   "metadata": {},
   "outputs": [],
   "source": [
    "def show_train_history(train_history, train, validation):\n",
    "\n",
    "    plt.plot(train_history.history[train])\n",
    "    plt.plot(train_history.history[validation])\n",
    "    plt.title('Train History')\n",
    "    plt.ylabel('train')\n",
    "    plt.xlabel('Epoch')\n",
    "    plt.legend(['train', 'validation'])\n",
    "    plt.show()"
   ]
  },
  {
   "cell_type": "code",
   "execution_count": 10,
   "metadata": {},
   "outputs": [
    {
     "data": {
      "image/png": "[encoded data removed]",
      "text/plain": [
       "<Figure size 432x288 with 1 Axes>"
      ]
     },
     "metadata": {},
     "output_type": "display_data"
    }
   ],
   "source": [
    "show_train_history(train_history, 'acc', 'val_acc')"
   ]
  },
  {
   "cell_type": "markdown",
   "metadata": {},
   "source": [
    "# Discussion\n",
    "+ 15層+100units+dropout=0.3,跑50 epoch ,使用Pclass, Sex, Age, SibSp, Parch, Fare這6個feature\n",
    "+ 其中Age和Fare有做normalize，就是把原本的數字除以平均\n",
    "\n",
    "    - training accuracy 81.537%\n",
    "    - testing accuracy 94.617%\n",
    "    \n",
    "+ 上面是做十次取平均的結果\n",
    "+ 在同樣的testing accuracy有時會跑到98%，但也會掉到85%左右\n",
    "+ 實際多跑幾次testing accuracy大概會落在90%~95%之間"
   ]
  },
  {
   "cell_type": "code",
   "execution_count": null,
   "metadata": {},
   "outputs": [],
   "source": []
  },
  {
   "cell_type": "code",
   "execution_count": null,
   "metadata": {},
   "outputs": [],
   "source": []
  }
 ],
 "metadata": {
  "kernelspec": {
   "display_name": "Python 3",
   "language": "python",
   "name": "python3"
  },
  "language_info": {
   "codemirror_mode": {
    "name": "ipython",
    "version": 3
   },
   "file_extension": ".py",
   "mimetype": "text/x-python",
   "name": "python",
   "nbconvert_exporter": "python",
   "pygments_lexer": "ipython3",
   "version": "3.5.5"
  }
 },
 "nbformat": 4,
 "nbformat_minor": 2
}
